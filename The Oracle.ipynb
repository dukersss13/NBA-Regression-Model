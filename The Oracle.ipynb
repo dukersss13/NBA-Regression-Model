{
 "cells": [
  {
   "cell_type": "code",
   "execution_count": 1,
   "metadata": {},
   "outputs": [],
   "source": [
    "import pandas as pd\n",
    "import numpy as np \n",
    "from scipy import stats\n",
    "import statsmodels.api as sm\n",
    "import matplotlib.pyplot as plt\n",
    "from datetime import date\n",
    "import time\n",
    "plt.style.use('seaborn')\n",
    "%matplotlib inline"
   ]
  },
  {
   "cell_type": "code",
   "execution_count": 2,
   "metadata": {},
   "outputs": [],
   "source": [
    "from nba_api.stats.static import teams\n",
    "from nba_api.stats.endpoints import leaguegamefinder\n",
    "from nba_api.stats.endpoints import leaguedashoppptshot\n",
    "from sklearn.linear_model import Ridge\n",
    "from sklearn.linear_model import LinearRegression as LR"
   ]
  },
  {
   "cell_type": "code",
   "execution_count": 3,
   "metadata": {},
   "outputs": [
    {
     "data": {
      "text/plain": [
       "{'id': 1610612737,\n",
       " 'full_name': 'Atlanta Hawks',\n",
       " 'abbreviation': 'ATL',\n",
       " 'nickname': 'Hawks',\n",
       " 'city': 'Atlanta',\n",
       " 'state': 'Atlanta',\n",
       " 'year_founded': 1949}"
      ]
     },
     "execution_count": 3,
     "metadata": {},
     "output_type": "execute_result"
    }
   ],
   "source": [
    "nba_teams = teams.get_teams()\n",
    "nba_teams[0]"
   ]
  },
  {
   "cell_type": "markdown",
   "metadata": {},
   "source": [
    "currentSeason is the year of which the NBA season starts. For ex: if the current season is the 2019-2020 then currentSeason value would be 2019."
   ]
  },
  {
   "cell_type": "code",
   "execution_count": 4,
   "metadata": {},
   "outputs": [],
   "source": [
    "today = date.today()\n",
    "\n",
    "if today.month > 9:\n",
    "    currentSeason = str(today.year)\n",
    "else: \n",
    "    currentSeason = str(today.year - 1)"
   ]
  },
  {
   "cell_type": "markdown",
   "metadata": {},
   "source": [
    "## extract_data function\n",
    "\n",
    "This function takes in the names of the home & away team given by the user & fitlers out their games from the current season.\n",
    "\n",
    "The function will extract the offensive & defensive data according to the games played by the teams. Since the algorithm is based on the assumption that the game will be held on either team's home floor, this function will filter out statistics according to their home & away games.\n",
    "\n",
    "For example: Mavericks @ Clippers. The function will extract offensive & defensive statistics from the Mavericks' away games and from the Clippers' home games."
   ]
  },
  {
   "cell_type": "code",
   "execution_count": 10,
   "metadata": {},
   "outputs": [],
   "source": [
    "def extract_data(currentSeason):\n",
    "    nba_teams = teams.get_teams()\n",
    "    \n",
    "    homeTeam = str(input(\"Name of the home team: \"))\n",
    "    awayTeam = str(input(\"Name of the away team: \"))\n",
    "    \n",
    "    homeData = [team for team in nba_teams if team['nickname'] == homeTeam][0]\n",
    "    homeID = homeData['id']\n",
    "\n",
    "    awayData = [team for team in nba_teams if team['nickname'] == awayTeam][0]\n",
    "    awayID = awayData['id']\n",
    "    \n",
    "    # Query for offensive stats of teams desired\n",
    "    home_gamefinder = leaguegamefinder.LeagueGameFinder(team_id_nullable = homeID)\n",
    "    away_gamefinder = leaguegamefinder.LeagueGameFinder(team_id_nullable = awayID)\n",
    "\n",
    "    # The first DataFrame of those returned is what we want.\n",
    "    homeTeam_games = home_gamefinder.get_data_frames()[0]\n",
    "    awayTeam_games = away_gamefinder.get_data_frames()[0]\n",
    "\n",
    "    offense = [homeTeam_games, awayTeam_games]\n",
    "\n",
    "    currentSeason_games = []\n",
    "\n",
    "    for i in offense: \n",
    "        thisSeason_games = i[i.SEASON_ID.str[-4:] == currentSeason]\n",
    "        currentSeason_games.append(thisSeason_games)\n",
    "        \n",
    "    homeTeam_games = currentSeason_games[0][currentSeason_games[0].MATCHUP.str.contains('vs.')]\n",
    "    awayTeam_games = currentSeason_games[1][currentSeason_games[1].MATCHUP.str.contains('@')]\n",
    "    \n",
    "    offense_categories = ['FGM', 'FGA', 'FG3M', 'FG3A', 'FTM', 'FTA']   \n",
    "    \n",
    "    homeOffense = homeTeam_games[offense_categories]\n",
    "    awayOffense = awayTeam_games[offense_categories]\n",
    "    \n",
    "    # Query for defensive stats of teams desired\n",
    "    home_defense = leaguedashoppptshot.LeagueDashOppPtShot(team_id_nullable = homeID, location_nullable = \"Home\")\n",
    "    away_defense = leaguedashoppptshot.LeagueDashOppPtShot(team_id_nullable = awayID, location_nullable = \"Road\")\n",
    "\n",
    "    homeTeam_defense = home_defense.get_data_frames()\n",
    "    awayTeam_defense = away_defense.get_data_frames()\n",
    "\n",
    "    defense = [homeTeam_defense[0], awayTeam_defense[0]]\n",
    "    \n",
    "    defense_categories = ['G','FG2A', 'FG3A']\n",
    "    \n",
    "    homeDefense = defense[0][defense_categories]\n",
    "    awayDefense = defense[1][defense_categories]\n",
    "    \n",
    "    return homeOffense, awayOffense, homeDefense, awayDefense, homeTeam, awayTeam"
   ]
  },
  {
   "cell_type": "code",
   "execution_count": 11,
   "metadata": {},
   "outputs": [],
   "source": [
    "def offense(table):\n",
    "    fgm = table.iloc[:,0].values\n",
    "    fga = table.iloc[:,1].values\n",
    "    tpm = table.iloc[:,2].values\n",
    "    tpa = table.iloc[:,3].values\n",
    "    ftm = table.iloc[:,4].values\n",
    "    fta = table.iloc[:,5].values\n",
    "    \n",
    "    avg_fta = int(np.mean(fta))\n",
    "    fgm = fgm - tpm\n",
    "    fga = fga - tpa\n",
    "    \n",
    "    return fgm, fga, tpm, tpa, ftm, fta, avg_fta\n",
    "\n",
    "def defense(table):\n",
    "    games = int(table.iloc[:,0])\n",
    "    avg_2fga = int(table['FG2A']/games)\n",
    "    avg_3fga = int(table['FG3A']/games)\n",
    "    return avg_2fga, avg_3fga"
   ]
  },
  {
   "cell_type": "code",
   "execution_count": 12,
   "metadata": {},
   "outputs": [],
   "source": [
    "def linreg(attempts, makes, expected_attempts):\n",
    "    \n",
    "    new_attempts = attempts.reshape(-1,1)\n",
    "    new_makes = makes.reshape(-1,1)\n",
    "    \n",
    "    new_expected_attempts = np.array([expected_attempts]).reshape(-1,1)\n",
    "    \n",
    "    ridge = LR()\n",
    "    ridge.fit(new_attempts, new_makes)\n",
    "    expected_makes = ridge.predict(new_expected_attempts)\n",
    "    \n",
    "    return expected_makes\n",
    "\n",
    "def calc_score(fg,three,ft):\n",
    "    score = fg*2 + three*3 + ft\n",
    "    return int(score)"
   ]
  },
  {
   "cell_type": "code",
   "execution_count": 13,
   "metadata": {},
   "outputs": [],
   "source": [
    "def main():\n",
    "    homeOffense, awayOffense, homeDefense, awayDefense, homeTeam, awayTeam = extract_data(currentSeason)\n",
    "    \n",
    "    fgm1, fga1, tpm1, tpa1, ftm1, fta1, avg_fta1 = offense(homeOffense)\n",
    "    fgm2, fga2, tpm2, tpa2, ftm2, fta2, avg_fta2 = offense(awayOffense)\n",
    "    \n",
    "    avg_fga1, avg_3fga1 = defense(homeDefense)\n",
    "    avg_fga2, avg_3fga2 = defense(awayDefense)\n",
    "    \n",
    "    home_e2fgm = linreg(fga1, fgm1, avg_fga2)\n",
    "    home_e3fgm = linreg(tpa1, tpm1, avg_3fga2)\n",
    "    home_eftm = linreg(fta1, ftm1, avg_fta1)\n",
    "    \n",
    "    away_e2fgm = linreg(fga2, fgm2, avg_fga1)\n",
    "    away_e3fgm = linreg(tpa2, tpm2, avg_3fga1)\n",
    "    away_eftm = linreg(fta2, ftm2, avg_fta2)\n",
    "    \n",
    "    homeScore = calc_score(home_e2fgm, home_e3fgm, home_eftm)\n",
    "    awayScore = calc_score(away_e2fgm, away_e3fgm, away_eftm)\n",
    "    \n",
    "    localtime = time.asctime(time.localtime(time.time()))\n",
    "    \n",
    "    if homeScore == awayScore:\n",
    "        print(\"\\nThe current time is\", localtime)\n",
    "        print(\"The game may go into overtime.\")\n",
    "        print(\"\\n{}: {} \\n{}: {}\".format(homeTeam, homeScore, awayTeam, awayScore))\n",
    "    \n",
    "    else:\n",
    "        print(\"\\nThe current time is\", localtime)\n",
    "        print(\"\\n{}: {} \\n{}: {}\".format(homeTeam, homeScore, awayTeam, awayScore))"
   ]
  },
  {
   "cell_type": "code",
   "execution_count": 9,
   "metadata": {
    "scrolled": true
   },
   "outputs": [
    {
     "name": "stdout",
     "output_type": "stream",
     "text": [
      "Name of the home team: Celtics\n",
      "Name of the away team: Heat\n",
      "\n",
      "The current time is Thu Sep 24 23:44:29 2020\n",
      "\n",
      "Celtics: 109 \n",
      "Heat: 110\n"
     ]
    }
   ],
   "source": [
    "main()"
   ]
  }
 ],
 "metadata": {
  "kernelspec": {
   "display_name": "Python 3",
   "language": "python",
   "name": "python3"
  },
  "language_info": {
   "codemirror_mode": {
    "name": "ipython",
    "version": 3
   },
   "file_extension": ".py",
   "mimetype": "text/x-python",
   "name": "python",
   "nbconvert_exporter": "python",
   "pygments_lexer": "ipython3",
   "version": "3.7.4"
  }
 },
 "nbformat": 4,
 "nbformat_minor": 2
}
